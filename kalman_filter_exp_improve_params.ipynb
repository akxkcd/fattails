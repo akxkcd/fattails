{
  "nbformat": 4,
  "nbformat_minor": 0,
  "metadata": {
    "colab": {
      "name": "kalman_filter_exp_improve_params.ipynb",
      "version": "0.3.2",
      "provenance": []
    },
    "kernelspec": {
      "name": "python3",
      "display_name": "Python 3"
    }
  },
  "cells": [
    {
      "cell_type": "markdown",
      "metadata": {
        "id": "view-in-github",
        "colab_type": "text"
      },
      "source": [
        "[View in Colaboratory](https://colab.research.google.com/github/akxkcd/fattails/blob/master/kalman_filter_exp_improve_params.ipynb)"
      ]
    },
    {
      "metadata": {
        "id": "IoQxbVp4tX6m",
        "colab_type": "code",
        "colab": {}
      },
      "cell_type": "code",
      "source": [
        "import numpy as np\n",
        "import matplotlib.pyplot as plt\n",
        "\n",
        "%matplotlib inline"
      ],
      "execution_count": 0,
      "outputs": []
    },
    {
      "metadata": {
        "id": "z8la54_dn6HS",
        "colab_type": "code",
        "colab": {}
      },
      "cell_type": "code",
      "source": [
        "# http://pytorch.org/\n",
        "from os import path\n",
        "from wheel.pep425tags import get_abbr_impl, get_impl_ver, get_abi_tag\n",
        "platform = '{}{}-{}'.format(get_abbr_impl(), get_impl_ver(), get_abi_tag())\n",
        "\n",
        "accelerator = 'cu80' if path.exists('/opt/bin/nvidia-smi') else 'cpu'\n",
        "\n",
        "!pip install -q http://download.pytorch.org/whl/{accelerator}/torch-0.3.0.post4-{platform}-linux_x86_64.whl torchvision\n",
        "import torch"
      ],
      "execution_count": 0,
      "outputs": []
    },
    {
      "metadata": {
        "id": "5bhYoC0DvgNm",
        "colab_type": "text"
      },
      "cell_type": "markdown",
      "source": [
        "<h3> Generate Measurement Data <h3> "
      ]
    },
    {
      "metadata": {
        "id": "2FZf6jNXn8FM",
        "colab_type": "code",
        "colab": {}
      },
      "cell_type": "code",
      "source": [
        "import torch\n",
        "from torch.autograd import Variable"
      ],
      "execution_count": 0,
      "outputs": []
    },
    {
      "metadata": {
        "id": "lX0RQQRwtgWP",
        "colab_type": "code",
        "colab": {
          "base_uri": "https://localhost:8080/",
          "height": 265
        },
        "outputId": "d9cf849f-6451-4cee-ba94-97969742375f"
      },
      "cell_type": "code",
      "source": [
        "time_list = []\n",
        "measurement_list = []\n",
        "num_data = 50\n",
        "dt = 0.1\n",
        "for i in range(num_data):\n",
        "  noise = np.random.normal(0, 0.01)\n",
        "  time_list.append(i*dt)\n",
        "  measurement_list.append(i*dt + noise)\n",
        "\n",
        "plt.plot(time_list, measurement_list, 'go')\n",
        "plt.show()"
      ],
      "execution_count": 22,
      "outputs": [
        {
          "output_type": "display_data",
          "data": {
            "image/png": "[encoded data removed]",
            "text/plain": [
              "<matplotlib.figure.Figure at 0x7f6acaaaccc0>"
            ]
          },
          "metadata": {
            "tags": []
          }
        }
      ]
    },
    {
      "metadata": {
        "id": "3n_UIfbvtmYR",
        "colab_type": "code",
        "colab": {}
      },
      "cell_type": "code",
      "source": [
        "class kalman_filter():\n",
        "  \n",
        "  def __init__(self, q=0.1, r=0.1):\n",
        "    self.state = torch.transpose(torch.Tensor([0., 0.]), -1, 0).view(2,1)\n",
        "    self.P = torch.Tensor([[1., 0.], [0., 1.]])\n",
        "    self.last_time = 0.\n",
        "    # self.R = np.array([1])*r\n",
        "    self.R = r\n",
        "    # print(self.R)\n",
        "    self.Q = torch.Tensor([[1., 0.], [0., 1.]])*q\n",
        "    self.state_history = []\n",
        "    self.P_history = []\n",
        "    \n",
        "  def update_time(self, cur_time):\n",
        "    delta_t = cur_time - self.last_time\n",
        "    self.last_time = cur_time\n",
        "    \n",
        "    F = torch.Tensor([[1., delta_t], [0., 1.]])\n",
        "    # print(\"F:\", F)\n",
        "    # print(\"state:\", self.state)\n",
        "    self.state = torch.mm(F, self.state)\n",
        "    self.P = torch.mm(torch.mm(F, self.P), torch.transpose(F, -1, 0)) + self.R\n",
        "  \n",
        "  def show(self):\n",
        "    print(\"state:\", self.state)\n",
        "    print(\"P:\", self.P)\n",
        "    \n",
        "  def update_measurement(self, measurement, display=False):\n",
        "    measurement = torch.Tensor([measurement]).view(1,1)\n",
        "    H = torch.Tensor([1., 0.]).view(1,2)\n",
        "    # innovation\n",
        "    # print(\"state:\", self.state)\n",
        "    \n",
        "    y_k = measurement - torch.mm(H, self.state)\n",
        "    if display:\n",
        "      print(\"y_k\", y_k)\n",
        "    \n",
        "    # innovation covariance\n",
        "    var1 = torch.mm(torch.mm(H, self.P), torch.transpose(H, -1, 0))\n",
        "    S_k = self.R + var1\n",
        "    if display:\n",
        "      print(\"S_k:\", S_k)\n",
        "    \n",
        "    # kalman gain\n",
        "    K_k = torch.mm(self.P, torch.transpose(H, -1, 0))/S_k\n",
        "    if display:\n",
        "      print(\"P:\", self.P)\n",
        "      print(\"H:\", H)\n",
        "      print(\"K_k:\", K_k)\n",
        "      \n",
        "    # updated state\n",
        "    state_delta = torch.mm(K_k, y_k)\n",
        "    self.state = self.state + state_delta\n",
        "    if display:\n",
        "      print(\"updated state:\", self.state)\n",
        "      \n",
        "    # updated covariance\n",
        "    K_dot_H = 1. - torch.mm(H, K_k)\n",
        "    # print(\"K_dot_H:\", K_dot_H, torch.mm(K_k, H))\n",
        "    # print(self.R.shape, self.R)\n",
        "    p1 = torch.mm(torch.transpose(K_k, 0, -1), K_k)*self.R\n",
        "    p2 = K_dot_H*K_dot_H*self.P\n",
        "    # print(\"P2:\", p2)\n",
        "    # print(\"P1:\", p1)\n",
        "    # p2 = torch.mm(torch.mm(K_dot_H, self.P), torch.transpose(K_dot_H, 0, -1))\n",
        "    self.P = p1 + p2\n",
        "    if display:\n",
        "      print(\"updated covariance:\", self.P)\n",
        "    \n",
        "    self.state_history.append(self.state.numpy())\n",
        "    self.P_history.append(self.P)"
      ],
      "execution_count": 0,
      "outputs": []
    },
    {
      "metadata": {
        "id": "W8WJmqN_wu-z",
        "colab_type": "code",
        "colab": {
          "base_uri": "https://localhost:8080/",
          "height": 887
        },
        "outputId": "64e07c2f-ea1d-4e4b-dcd1-3adc0138497a"
      },
      "cell_type": "code",
      "source": [
        "\n",
        "filter = kalman_filter()\n",
        "\n",
        "for t, d in zip(time_list, measurement_list):\n",
        "  filter.update_time(t)\n",
        "  # filter.show()\n",
        "  filter.update_measurement(d, False)\n",
        "\n",
        "print(np.array(filter.state_history).shape)\n",
        "states = np.array(filter.state_history).reshape(-1,2).T\n",
        "print(states.shape, states)\n",
        "plt.plot(time_list, states[1])\n",
        "plt.show()\n",
        "plt.plot(time_list, states[0], 'ro')\n",
        "plt.plot(time_list, measurement_list, 'go')"
      ],
      "execution_count": 24,
      "outputs": [
        {
          "output_type": "stream",
          "text": [
            "(50, 2, 1)\n",
            "(2, 50) [[2.2975873e-02 7.1992867e-02 1.6419478e-01 2.4981621e-01 3.5558593e-01\n",
            "  4.6019578e-01 5.7221383e-01 6.7798406e-01 7.6302320e-01 8.7285590e-01\n",
            "  9.6819544e-01 1.0848855e+00 1.1950027e+00 1.2854272e+00 1.4008321e+00\n",
            "  1.4923186e+00 1.5898492e+00 1.7024477e+00 1.8074294e+00 1.8973643e+00\n",
            "  1.9958352e+00 2.0862396e+00 2.2008700e+00 2.2926908e+00 2.3931551e+00\n",
            "  2.4946370e+00 2.5970793e+00 2.6997199e+00 2.8074512e+00 2.8959472e+00\n",
            "  3.0072937e+00 3.1001225e+00 3.1994989e+00 3.2874274e+00 3.3923779e+00\n",
            "  3.4819024e+00 3.5887399e+00 3.6933498e+00 3.7885711e+00 3.9061282e+00\n",
            "  4.0034566e+00 4.1137738e+00 4.2085161e+00 4.3082061e+00 4.3966961e+00\n",
            "  4.4986596e+00 4.6045890e+00 4.7035952e+00 4.7988577e+00 4.9034014e+00]\n",
            " [2.0887156e-03 4.7250688e-02 1.2966964e-01 1.9814727e-01 2.7914464e-01\n",
            "  3.5141200e-01 4.2384928e-01 4.8357394e-01 5.1813722e-01 5.7280546e-01\n",
            "  6.0866642e-01 6.6126585e-01 7.0271587e-01 7.2170490e-01 7.6244229e-01\n",
            "  7.7680439e-01 7.9550815e-01 8.2664716e-01 8.4767538e-01 8.5254419e-01\n",
            "  8.6499739e-01 8.6867642e-01 8.9483601e-01 8.9703822e-01 9.0717745e-01\n",
            "  9.1731995e-01 9.2741168e-01 9.3673944e-01 9.4998497e-01 9.4385785e-01\n",
            "  9.5983887e-01 9.5686591e-01 9.6034253e-01 9.5270491e-01 9.6182585e-01\n",
            "  9.5555240e-01 9.6618307e-01 9.7371310e-01 9.7168720e-01 9.9089795e-01\n",
            "  9.8923802e-01 9.9997348e-01 9.9502158e-01 9.9519849e-01 9.8480582e-01\n",
            "  9.8808736e-01 9.9479693e-01 9.9435073e-01 9.9041915e-01 9.9560302e-01]]\n"
          ],
          "name": "stdout"
        },
        {
          "output_type": "display_data",
          "data": {
            "image/png": "[encoded data removed]",
            "text/plain": [
              "<matplotlib.figure.Figure at 0x7f6aca542358>"
            ]
          },
          "metadata": {
            "tags": []
          }
        },
        {
          "output_type": "execute_result",
          "data": {
            "text/plain": [
              "[<matplotlib.lines.Line2D at 0x7f6aca3d1d30>]"
            ]
          },
          "metadata": {
            "tags": []
          },
          "execution_count": 24
        },
        {
          "output_type": "display_data",
          "data": {
            "image/png": "[encoded data removed]",
            "text/plain": [
              "<matplotlib.figure.Figure at 0x7f6aca3d1390>"
            ]
          },
          "metadata": {
            "tags": []
          }
        }
      ]
    },
    {
      "metadata": {
        "id": "xcHwE6-FzT0h",
        "colab_type": "code",
        "colab": {}
      },
      "cell_type": "code",
      "source": [
        ""
      ],
      "execution_count": 0,
      "outputs": []
    },
    {
      "metadata": {
        "id": "a4KHtITYm4Ky",
        "colab_type": "code",
        "colab": {}
      },
      "cell_type": "code",
      "source": [
        "class Model(torch.nn.Module):\n",
        "  \n",
        "  def __init__(self):\n",
        "    super(Model, self).__init__()\n",
        "    self.linear = torch.nn.Linear(1, 1)\n",
        "    \n",
        "  def forward(self, x):\n",
        "    y_pred = self.linear(x)\n",
        "    return y_pred\n",
        "    "
      ],
      "execution_count": 0,
      "outputs": []
    },
    {
      "metadata": {
        "id": "i_b7PugY0okD",
        "colab_type": "code",
        "colab": {
          "base_uri": "https://localhost:8080/",
          "height": 453
        },
        "outputId": "efc3c5f7-3712-4e5f-a932-d41d79256042"
      },
      "cell_type": "code",
      "source": [
        "w = Variable(torch.Tensor([1.0]), requires_grad=True)\n",
        "filter = kalman_filter(0.1, w)\n",
        "\n",
        "for t, d in zip(time_list, measurement_list):\n",
        "  filter.update_time(t)\n",
        "  filter.update_measurement(d)\n",
        "\n",
        "states = np.array(filter.state_history).T\n",
        "plt.plot(time_list, states[1])\n",
        "plt.show()\n",
        "plt.plot(time_list, states[0], 'ro')\n",
        "plt.plot(time_list, measurement_list, 'go')"
      ],
      "execution_count": 29,
      "outputs": [
        {
          "output_type": "stream",
          "text": [
            "Variable containing:\n",
            " 1\n",
            "[torch.FloatTensor of size 1]\n",
            "\n"
          ],
          "name": "stdout"
        },
        {
          "output_type": "error",
          "ename": "RuntimeError",
          "evalue": "ignored",
          "traceback": [
            "\u001b[0;31m---------------------------------------------------------------------------\u001b[0m",
            "\u001b[0;31mRuntimeError\u001b[0m                              Traceback (most recent call last)",
            "\u001b[0;32m<ipython-input-29-a6723c012d12>\u001b[0m in \u001b[0;36m<module>\u001b[0;34m()\u001b[0m\n\u001b[1;32m      4\u001b[0m \u001b[0;32mfor\u001b[0m \u001b[0mt\u001b[0m\u001b[0;34m,\u001b[0m \u001b[0md\u001b[0m \u001b[0;32min\u001b[0m \u001b[0mzip\u001b[0m\u001b[0;34m(\u001b[0m\u001b[0mtime_list\u001b[0m\u001b[0;34m,\u001b[0m \u001b[0mmeasurement_list\u001b[0m\u001b[0;34m)\u001b[0m\u001b[0;34m:\u001b[0m\u001b[0;34m\u001b[0m\u001b[0m\n\u001b[1;32m      5\u001b[0m   \u001b[0mfilter\u001b[0m\u001b[0;34m.\u001b[0m\u001b[0mupdate_time\u001b[0m\u001b[0;34m(\u001b[0m\u001b[0mt\u001b[0m\u001b[0;34m)\u001b[0m\u001b[0;34m\u001b[0m\u001b[0m\n\u001b[0;32m----> 6\u001b[0;31m   \u001b[0mfilter\u001b[0m\u001b[0;34m.\u001b[0m\u001b[0mupdate_measurement\u001b[0m\u001b[0;34m(\u001b[0m\u001b[0md\u001b[0m\u001b[0;34m)\u001b[0m\u001b[0;34m\u001b[0m\u001b[0m\n\u001b[0m\u001b[1;32m      7\u001b[0m \u001b[0;34m\u001b[0m\u001b[0m\n\u001b[1;32m      8\u001b[0m \u001b[0mstates\u001b[0m \u001b[0;34m=\u001b[0m \u001b[0mnp\u001b[0m\u001b[0;34m.\u001b[0m\u001b[0marray\u001b[0m\u001b[0;34m(\u001b[0m\u001b[0mfilter\u001b[0m\u001b[0;34m.\u001b[0m\u001b[0mstate_history\u001b[0m\u001b[0;34m)\u001b[0m\u001b[0;34m.\u001b[0m\u001b[0mT\u001b[0m\u001b[0;34m\u001b[0m\u001b[0m\n",
            "\u001b[0;32m<ipython-input-26-5a74c9508f03>\u001b[0m in \u001b[0;36mupdate_measurement\u001b[0;34m(self, measurement, display)\u001b[0m\n\u001b[1;32m     32\u001b[0m \u001b[0;34m\u001b[0m\u001b[0m\n\u001b[1;32m     33\u001b[0m     \u001b[0;31m# innovation covariance\u001b[0m\u001b[0;34m\u001b[0m\u001b[0;34m\u001b[0m\u001b[0m\n\u001b[0;32m---> 34\u001b[0;31m     \u001b[0mS_k\u001b[0m \u001b[0;34m=\u001b[0m \u001b[0mself\u001b[0m\u001b[0;34m.\u001b[0m\u001b[0mR\u001b[0m \u001b[0;34m+\u001b[0m \u001b[0mnp\u001b[0m\u001b[0;34m.\u001b[0m\u001b[0mdot\u001b[0m\u001b[0;34m(\u001b[0m\u001b[0mnp\u001b[0m\u001b[0;34m.\u001b[0m\u001b[0mdot\u001b[0m\u001b[0;34m(\u001b[0m\u001b[0mH\u001b[0m\u001b[0;34m,\u001b[0m \u001b[0mself\u001b[0m\u001b[0;34m.\u001b[0m\u001b[0mP\u001b[0m\u001b[0;34m)\u001b[0m\u001b[0;34m,\u001b[0m \u001b[0mH\u001b[0m\u001b[0;34m.\u001b[0m\u001b[0mT\u001b[0m\u001b[0;34m)\u001b[0m\u001b[0;34m\u001b[0m\u001b[0m\n\u001b[0m\u001b[1;32m     35\u001b[0m     \u001b[0;32mif\u001b[0m \u001b[0mdisplay\u001b[0m\u001b[0;34m:\u001b[0m\u001b[0;34m\u001b[0m\u001b[0m\n\u001b[1;32m     36\u001b[0m       \u001b[0mprint\u001b[0m\u001b[0;34m(\u001b[0m\u001b[0;34m\"S_k:\"\u001b[0m\u001b[0;34m,\u001b[0m \u001b[0mS_k\u001b[0m\u001b[0;34m)\u001b[0m\u001b[0;34m\u001b[0m\u001b[0m\n",
            "\u001b[0;31mRuntimeError\u001b[0m: add() received an invalid combination of arguments - got (numpy.ndarray), but expected one of:\n * (float other, float alpha)\n * (Variable other, float alpha)\n"
          ]
        }
      ]
    },
    {
      "metadata": {
        "id": "JylOuqrbTcQu",
        "colab_type": "code",
        "colab": {}
      },
      "cell_type": "code",
      "source": [
        ""
      ],
      "execution_count": 0,
      "outputs": []
    }
  ]
}