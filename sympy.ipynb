{
  "nbformat": 4,
  "nbformat_minor": 0,
  "metadata": {
    "colab": {
      "name": "sympy.ipynb",
      "version": "0.3.2",
      "provenance": []
    },
    "kernelspec": {
      "name": "python3",
      "display_name": "Python 3"
    }
  },
  "cells": [
    {
      "cell_type": "markdown",
      "metadata": {
        "id": "view-in-github",
        "colab_type": "text"
      },
      "source": [
        "[View in Colaboratory](https://colab.research.google.com/github/akxkcd/fattails/blob/master/sympy.ipynb)"
      ]
    },
    {
      "metadata": {
        "id": "Rt1kPyKJSNVL",
        "colab_type": "code",
        "colab": {}
      },
      "cell_type": "code",
      "source": [
        "from sympy import sin, cos, Matrix\n",
        "from sympy.abc import rho, phi, r\n",
        "from sympy.abc import x, y, r, a, b\n"
      ],
      "execution_count": 0,
      "outputs": []
    },
    {
      "metadata": {
        "id": "HbhpTyyYTeVt",
        "colab_type": "code",
        "colab": {
          "base_uri": "https://localhost:8080/",
          "height": 85
        },
        "outputId": "cc8e178a-9553-44f9-a84d-db216723ea59"
      },
      "cell_type": "code",
      "source": [
        "X = Matrix([rho*cos(phi), rho*sin(phi), rho**2])\n",
        "Y = Matrix([rho, phi])\n",
        "X.jacobian(Y)"
      ],
      "execution_count": 2,
      "outputs": [
        {
          "output_type": "execute_result",
          "data": {
            "text/plain": [
              "Matrix([\n",
              "[cos(phi), -rho*sin(phi)],\n",
              "[sin(phi),  rho*cos(phi)],\n",
              "[   2*rho,             0]])"
            ]
          },
          "metadata": {
            "tags": []
          },
          "execution_count": 2
        }
      ]
    },
    {
      "metadata": {
        "id": "myBOVC16I9lf",
        "colab_type": "text"
      },
      "cell_type": "markdown",
      "source": [
        "\n",
        "\n",
        "<h3> Use sympy to compute Jacobian for range, azimuth, range-rate\n"
      ]
    },
    {
      "metadata": {
        "id": "GAVD-n1tUOk0",
        "colab_type": "code",
        "colab": {
          "base_uri": "https://localhost:8080/",
          "height": 105
        },
        "outputId": "b9cdcdec-0fd9-4f77-fa2b-482e8ba35136"
      },
      "cell_type": "code",
      "source": [
        "from sympy import Pow\n",
        "from sympy import atan\n",
        "X = Matrix([Pow(x*x+y*y, 1/2), atan(y/x), (x*a + y*b)/Pow(x*x + y*y, 1/2)])\n",
        "Y = Matrix([x, y, a, b])\n",
        "X.jacobian(Y)"
      ],
      "execution_count": 6,
      "outputs": [
        {
          "output_type": "execute_result",
          "data": {
            "text/plain": [
              "Matrix([\n",
              "[                                      1.0*x*(x**2 + y**2)**(-0.5),                                       1.0*y*(x**2 + y**2)**(-0.5),                       0,                       0],\n",
              "[                                        -y/(x**2*(1 + y**2/x**2)),                                             1/(x*(1 + y**2/x**2)),                       0,                       0],\n",
              "[a*(x**2 + y**2)**(-0.5) - 1.0*x*(x**2 + y**2)**(-1.5)*(a*x + b*y), b*(x**2 + y**2)**(-0.5) - 1.0*y*(x**2 + y**2)**(-1.5)*(a*x + b*y), x*(x**2 + y**2)**(-0.5), y*(x**2 + y**2)**(-0.5)]])"
            ]
          },
          "metadata": {
            "tags": []
          },
          "execution_count": 6
        }
      ]
    },
    {
      "metadata": {
        "id": "Wx-Ds10MYCrp",
        "colab_type": "code",
        "colab": {}
      },
      "cell_type": "code",
      "source": [
        ""
      ],
      "execution_count": 0,
      "outputs": []
    },
    {
      "metadata": {
        "id": "6Dr2AHhmI17K",
        "colab_type": "code",
        "colab": {}
      },
      "cell_type": "code",
      "source": [
        ""
      ],
      "execution_count": 0,
      "outputs": []
    }
  ]
}